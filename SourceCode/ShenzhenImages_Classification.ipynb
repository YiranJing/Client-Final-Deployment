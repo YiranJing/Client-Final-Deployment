{
 "cells": [
  {
   "cell_type": "markdown",
   "metadata": {
    "id": "_UBZ14IjZsAy"
   },
   "source": [
    "# Traffic Sign Classification using NN\n",
    "\n",
    "- Author: Yiran Jing\n",
    "- Date: Nov 2020\n",
    "- Group: CP32-17b1 (COMP3988 group 1)\n"
   ]
  },
  {
   "cell_type": "code",
   "execution_count": 3,
   "metadata": {
    "id": "5M6SvneBZsAz"
   },
   "outputs": [],
   "source": [
    "import matplotlib.pyplot as plt\n",
    "from os import listdir, rename, listdir\n",
    "from PIL import Image, ImageDraw, ImageFont\n",
    "from pathlib import Path\n",
    "import numpy as np\n",
    "import os\n",
    "import PIL\n",
    "import tensorflow as tf\n",
    "import pathlib\n",
    "from sklearn.metrics import classification_report, confusion_matrix\n",
    "from mlxtend.plotting import plot_confusion_matrix\n",
    "import seaborn as sns\n",
    "\n",
    "import cv2\n",
    "import numpy as np\n",
    "import platform\n",
    "import tempfile\n",
    "import time\n",
    "import sys\n",
    "import shutil\n",
    "import glob\n",
    "\n",
    "import config as cfg\n",
    "from TFmodel_helper_function import *"
   ]
  },
  {
   "cell_type": "markdown",
   "metadata": {
    "id": "HB_ObLNMZsA6"
   },
   "source": [
    "### Load dataset and visualization"
   ]
  },
  {
   "cell_type": "code",
   "execution_count": 4,
   "metadata": {
    "id": "oE6tCIjZZsA7"
   },
   "outputs": [],
   "source": [
    "folder = \"data\"\n",
    "labels = [ \"stop\", \"right\", \"left\", \"park\", \"speed_50_white\"]\n"
   ]
  },
  {
   "cell_type": "markdown",
   "metadata": {},
   "source": [
    "### Original dataset size"
   ]
  },
  {
   "cell_type": "markdown",
   "metadata": {},
   "source": [
    "# OpenCV pre-processing \n",
    "\n",
    "Note that if the images fail to be detected using OpenCV, then they willnot be collected by roi output folder. And thus willnot be used to train model.\n",
    "\n",
    "We are trying to guarantee the high detection rate using openCV for each class"
   ]
  },
  {
   "cell_type": "code",
   "execution_count": 5,
   "metadata": {},
   "outputs": [],
   "source": [
    "abs_path = \"/Users/yiranjing/Desktop/COMP3988/Sign-Detection/Yiran/data/\"\n",
    "\n",
    "train_path = abs_path + \"train/\" # the path of original training images\n",
    "test_path = abs_path + \"test/\" # the path of original test images\n",
    "roi_train_path = abs_path + \"trainCNN_roi/\" # the path of the training rois after openCV processing\n",
    "roi_test_path = abs_path + \"testCNN_roi/\" # the path of the test rois after openCV processing\n",
    "fail_openCV = abs_path + \"fail_openCV/\" # the path used to collect failed image"
   ]
  },
  {
   "cell_type": "markdown",
   "metadata": {},
   "source": [
    "### define the target folder we want to use to collect data"
   ]
  },
  {
   "cell_type": "code",
   "execution_count": 6,
   "metadata": {},
   "outputs": [],
   "source": [
    "class_folders = [\"stop/stop_simulator/\", \"stop/stop_realWorld/\", \n",
    "                 \"right/right_blue/\", \"right/right_realWorldImage/\",\n",
    "                 \"left/left_blue/\", \"left/left_real_worldImage/\",\n",
    "                \"park/park_green/\", \"park/park_yellow/\",\"park/park_realWorld/\", #\"park/park_blue/\", #\"park/park_white/\",\n",
    "                 \"speed_50_white/speed_50_white_simulator/\", \"speed_50_white/speed_50_realworldImage/\",\n",
    "                 #\"other/other_simulator/\"\n",
    "                ]"
   ]
  },
  {
   "cell_type": "markdown",
   "metadata": {},
   "source": [
    "## Data processed by openCV for CNN model training"
   ]
  },
  {
   "cell_type": "markdown",
   "metadata": {},
   "source": [
    "# CNN model"
   ]
  },
  {
   "cell_type": "code",
   "execution_count": 7,
   "metadata": {
    "id": "rZg1CemfZsB4"
   },
   "outputs": [],
   "source": [
    "# Predefined Hyper-parameter \n",
    "learning_rate = 0.001\n",
    "batch_size = 64\n",
    "img_height = 100\n",
    "img_width = 100\n",
    "AUTOTUNE = tf.data.experimental.AUTOTUNE"
   ]
  },
  {
   "cell_type": "markdown",
   "metadata": {
    "id": "3Q_GNpUnZsCp"
   },
   "source": [
    "## Model evaluation\n",
    "\n",
    "Reason to add confusion matrix: We select model based on accuracy, but accuracy is just a summary of all classes performance, so to see individual class performance, we should draw confusion matrix. Also, it is good to consider Precision Recall, ROC for each classes.\n",
    "\n",
    "Based on the test data\n",
    "\n",
    "## load Shenzhen data"
   ]
  },
  {
   "cell_type": "code",
   "execution_count": 8,
   "metadata": {},
   "outputs": [
    {
     "name": "stdout",
     "output_type": "stream",
     "text": [
      "Shenzhen Test data:\n",
      "The total number of test images are 735. \n",
      "\n",
      "stop: 577 images.\n",
      "right: 17 images.\n",
      "left: 135 images.\n",
      "speed_50_white: 0 images.\n",
      "park: 6 images.\n",
      "Found 732 files belonging to 5 classes.\n"
     ]
    }
   ],
   "source": [
    "# AUTOTUNE = tf.data.experimental.AUTOTUNE\n",
    "print(\"Shenzhen Test data:\")\n",
    "test_data_dir = pathlib.Path(abs_path + \"/shenzhen_roi_filter\")\n",
    "image_count = len(list(test_data_dir.glob('*/*'))) # there are some png, also some jpg\n",
    "print(\"The total number of test images are {}. \\n\".format(image_count))\n",
    "labels = [ \"stop\", \"right\", \"left\", \"speed_50_white\", \"park\"]\n",
    "\n",
    "for class_name in labels:\n",
    "    path = abs_path + \"shenzhen_roi_filter/\" + class_name \n",
    "    #print(path)\n",
    "    image_count = len(list(pathlib.Path(path).glob('*')))\n",
    "    print(\"{}: {} images.\".format(class_name, image_count))\n",
    "    \n",
    "\n",
    " \n",
    "# process data\n",
    "test_ds = tf.keras.preprocessing.image_dataset_from_directory(\n",
    "  test_data_dir, \n",
    "  image_size=(img_height, img_width),\n",
    "  seed=123, \n",
    "  batch_size=batch_size)\n",
    "labels = test_ds.class_names\n",
    "\n",
    "\n",
    "test_ds = test_ds.cache().prefetch(buffer_size=AUTOTUNE)"
   ]
  },
  {
   "cell_type": "markdown",
   "metadata": {},
   "source": [
    "### True detection rate using openCV\n",
    "1. Stop: 584 / 649 = **0.9** (good enough)\n",
    "2. right-blue-turn: 17/169 = 0.1\n",
    "3. left-blue-turn (new): 135/174 = 0.776\n",
    "4. green-park: 6/83 = 0.072"
   ]
  },
  {
   "cell_type": "code",
   "execution_count": 9,
   "metadata": {},
   "outputs": [],
   "source": [
    "## load model \n",
    "from tensorflow.keras.models import load_model\n",
    "cnn = load_model('../../model/sign.h5')"
   ]
  },
  {
   "cell_type": "code",
   "execution_count": 10,
   "metadata": {
    "colab": {
     "base_uri": "https://localhost:8080/",
     "height": 628
    },
    "id": "OG6rW2RtZsC4",
    "outputId": "27703d74-83c6-4bcf-cc98-a6b99c981287"
   },
   "outputs": [
    {
     "name": "stdout",
     "output_type": "stream",
     "text": [
      "Confusion Matrix, x label is Predicted_Label, y is True_Label\n"
     ]
    },
    {
     "name": "stderr",
     "output_type": "stream",
     "text": [
      "/Users/yiranjing/Desktop/comp3988_t17b_group1/sign_detection_code/Yiran/TFmodel_helper_function.py:323: RuntimeWarning: invalid value encountered in true_divide\n",
      "  cmn = cm.astype('float') / cm.sum(axis=1)[:, np.newaxis]\n"
     ]
    },
    {
     "data": {
      "image/png": "[encoded data removed]",
      "text/plain": [
       "<Figure size 576x360 with 2 Axes>"
      ]
     },
     "metadata": {
      "needs_background": "light"
     },
     "output_type": "display_data"
    },
    {
     "name": "stdout",
     "output_type": "stream",
     "text": [
      "Classification Report bazed on test data\n",
      "                precision    recall  f1-score   support\n",
      "\n",
      "          left       0.86      0.97      0.91       134\n",
      "          park       0.00      0.00      0.00         6\n",
      "         right       0.62      0.81      0.70        16\n",
      "speed_50_white       0.00      0.00      0.00         0\n",
      "          stop       1.00      0.96      0.98       576\n",
      "\n",
      "      accuracy                           0.95       732\n",
      "     macro avg       0.49      0.55      0.52       732\n",
      "  weighted avg       0.96      0.95      0.95       732\n",
      "\n"
     ]
    },
    {
     "name": "stderr",
     "output_type": "stream",
     "text": [
      "/Users/yiranjing/miniconda3/lib/python3.7/site-packages/sklearn/metrics/classification.py:1439: UndefinedMetricWarning: Recall and F-score are ill-defined and being set to 0.0 in labels with no true samples.\n",
      "  'recall', 'true', average, warn_for)\n"
     ]
    }
   ],
   "source": [
    "draw_confusion_matrix(cnn, test_ds, class_names = labels)"
   ]
  },
  {
   "cell_type": "markdown",
   "metadata": {},
   "source": [
    "- Model get good prediction result on the left sign (true positive = 0.98), and stop (true positive = 0.99)\n",
    "- relative good result on right sign (true positive = 0.81, false positive mainly in left)\n",
    "- bad result on park (true positive = 0.33, false positive mainly in left)"
   ]
  },
  {
   "cell_type": "code",
   "execution_count": null,
   "metadata": {},
   "outputs": [],
   "source": []
  }
 ],
 "metadata": {
  "colab": {
   "collapsed_sections": [
    "vb0rWUxHZsCJ",
    "gl-T62qUZsCU"
   ],
   "name": "Turn_and_Stop_Sign_Classification_1Oct.ipynb",
   "provenance": []
  },
  "kernelspec": {
   "display_name": "Python 3",
   "language": "python",
   "name": "python3"
  },
  "language_info": {
   "codemirror_mode": {
    "name": "ipython",
    "version": 3
   },
   "file_extension": ".py",
   "mimetype": "text/x-python",
   "name": "python",
   "nbconvert_exporter": "python",
   "pygments_lexer": "ipython3",
   "version": "3.7.3"
  }
 },
 "nbformat": 4,
 "nbformat_minor": 1
}
