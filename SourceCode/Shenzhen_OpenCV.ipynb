{
 "cells": [
  {
   "cell_type": "markdown",
   "metadata": {
    "id": "_UBZ14IjZsAy"
   },
   "source": [
    "# Color-based object detection using OpenCV\n",
    "\n",
    "- Date: Nov 2020\n",
    "- Author: Yuanda Dong, Yiran Jing\n",
    "- Group: CP32-17b1 (COMP3988 group 1)\n",
    "\n",
    "\n",
    "#### Content:\n",
    "- This nodebook check the `stop` and `blue-turn` sign on our test dataset.\n",
    "- print the correct detected iamges and also collect the failed detected images.\n",
    "\n",
    "\n",
    "### Summary:\n",
    "- The success rate of stop sign is 90%, and can label almost all detected stop sign correctly!\n",
    "\n",
    "- The success rate of blue-turning sign is 60% only, and cannot label the turn-sign part correctly.\n",
    "\n",
    "- Other class didnot work well currently\n",
    "\n",
    "\n",
    "\n",
    "\n",
    "### Help function in `Object_Detection_shenzhen.py`\n"
   ]
  },
  {
   "cell_type": "code",
   "execution_count": 2,
   "metadata": {
    "id": "5M6SvneBZsAz"
   },
   "outputs": [],
   "source": [
    "import matplotlib.pyplot as plt\n",
    "from os import listdir, rename, listdir\n",
    "from PIL import Image, ImageDraw, ImageFont\n",
    "from pathlib import Path\n",
    "import numpy as np\n",
    "import os\n",
    "import PIL\n",
    "import tensorflow as tf\n",
    "import pathlib\n",
    "from sklearn.metrics import classification_report, confusion_matrix\n",
    "from mlxtend.plotting import plot_confusion_matrix\n",
    "import seaborn as sns\n",
    "\n",
    "import cv2\n",
    "import numpy as np\n",
    "import platform\n",
    "import tempfile\n",
    "import time\n",
    "import sys\n",
    "import shutil\n",
    "import glob\n",
    "\n",
    "from src import config as cfg\n",
    "\n",
    "from tensorflow import keras\n",
    "from tensorflow.keras import layers\n",
    "from tensorflow.keras.models import Sequential\n",
    "\n",
    "from Object_Detection_shenzhen import *"
   ]
  },
  {
   "cell_type": "markdown",
   "metadata": {
    "id": "HB_ObLNMZsA6"
   },
   "source": [
    "### Load dataset and visualization"
   ]
  },
  {
   "cell_type": "code",
   "execution_count": 3,
   "metadata": {
    "id": "oE6tCIjZZsA7"
   },
   "outputs": [],
   "source": [
    "folder = \"shenzhen-images\"\n",
    "labels = [\"stop_selected\", \"right_selected\", \"left_selected\", \"park_green_selected\"] # the raw shenzhen data \n"
   ]
  },
  {
   "cell_type": "code",
   "execution_count": 4,
   "metadata": {},
   "outputs": [],
   "source": [
    "abs_path = \"/Users/yiranjing/Desktop/COMP3988/Sign-Detection/Yiran/shenzhen-images/\"\n",
    "\n",
    "train_path = abs_path + \"raw/\" # the path of original training images\n",
    "roi_train_path = abs_path + \"roi_outputs/\"# the path of the training rois after openCV processing"
   ]
  },
  {
   "cell_type": "markdown",
   "metadata": {},
   "source": [
    "### Original dataset size"
   ]
  },
  {
   "cell_type": "code",
   "execution_count": 5,
   "metadata": {},
   "outputs": [
    {
     "name": "stdout",
     "output_type": "stream",
     "text": [
      "Train data: \n",
      "The total number of turning images are 4540. \n",
      "\n",
      "stop_selected: 649 images.\n",
      "right_selected: 152 images.\n",
      "left_selected: 189 images.\n",
      "park_green_selected: 83 images.\n"
     ]
    }
   ],
   "source": [
    "print(\"Train data: \")\n",
    "data_dir = pathlib.Path(folder+\"/raw\")\n",
    "image_count = len(list(data_dir.glob('*/*'))) # there are some png, also some jpg\n",
    "print(\"The total number of turning images are {}. \\n\".format(image_count))\n",
    "\n",
    "for class_name in labels:\n",
    "    path = folder+\"/raw/\" + class_name \n",
    "    #print(path)\n",
    "    #path2 = pathlib.Path(path)\n",
    "    image_count = len(list(pathlib.Path(path).glob('*')))\n",
    "    print(\"{}: {} images.\".format(class_name, image_count))"
   ]
  },
  {
   "cell_type": "markdown",
   "metadata": {},
   "source": [
    "# OpenCV pre-processing \n",
    "\n",
    "Note that if the images fail to be detected using OpenCV, then they willnot be collected by roi output folder. And thus willnot be used to train model.\n",
    "\n",
    "We are trying to guarantee the high detection rate using openCV for each class"
   ]
  },
  {
   "cell_type": "code",
   "execution_count": 6,
   "metadata": {},
   "outputs": [],
   "source": [
    "class_folders = [\"stop_selected/\", \"right_selected/\", \"left_selected/\", \"park_green_selected/\"] "
   ]
  },
  {
   "cell_type": "code",
   "execution_count": 7,
   "metadata": {},
   "outputs": [
    {
     "name": "stdout",
     "output_type": "stream",
     "text": [
      "The success rate on stop_selected/ training images is : 0.998\n",
      "The success rate on right_selected/ training images is : 0.993\n",
      "The success rate on left_selected/ training images is : 0.989\n",
      "The success rate on park_green_selected/ training images is : 1.000\n",
      "CPU times: user 4.52 s, sys: 3.24 s, total: 7.76 s\n",
      "Wall time: 9.12 s\n"
     ]
    }
   ],
   "source": [
    "%%time \n",
    "\n",
    "for folder_name in class_folders:\n",
    "    \n",
    "    # process training images\n",
    "    class_train_path = train_path + folder_name \n",
    "    #print(class_train_path)\n",
    "    roi_dst_dir = roi_train_path + folder_name \n",
    "    fail_image_collection, success_rate = test_images(class_train_path, roi_dst_dir, 0)\n",
    "    print(\"The success rate on {} training images is : {:.3f}\".format(folder_name, success_rate))"
   ]
  },
  {
   "cell_type": "code",
   "execution_count": null,
   "metadata": {},
   "outputs": [],
   "source": []
  }
 ],
 "metadata": {
  "colab": {
   "collapsed_sections": [
    "vb0rWUxHZsCJ",
    "gl-T62qUZsCU"
   ],
   "name": "Turn_and_Stop_Sign_Classification_1Oct.ipynb",
   "provenance": []
  },
  "kernelspec": {
   "display_name": "Python 3",
   "language": "python",
   "name": "python3"
  },
  "language_info": {
   "codemirror_mode": {
    "name": "ipython",
    "version": 3
   },
   "file_extension": ".py",
   "mimetype": "text/x-python",
   "name": "python",
   "nbconvert_exporter": "python",
   "pygments_lexer": "ipython3",
   "version": "3.7.3"
  }
 },
 "nbformat": 4,
 "nbformat_minor": 1
}
